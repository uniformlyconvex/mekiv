{
 "cells": [
  {
   "cell_type": "code",
   "execution_count": 7,
   "metadata": {},
   "outputs": [
    {
     "name": "stderr",
     "output_type": "stream",
     "text": [
      "100%|██████████| 100/100 [00:01<00:00, 92.47it/s]\n"
     ]
    },
    {
     "name": "stdout",
     "output_type": "stream",
     "text": [
      "Minimization took 1.08 seconds.\n"
     ]
    },
    {
     "name": "stderr",
     "output_type": "stream",
     "text": [
      "100%|██████████| 100/100 [00:00<00:00, 119.51it/s]\n"
     ]
    },
    {
     "name": "stdout",
     "output_type": "stream",
     "text": [
      "Minimization took 0.84 seconds.\n"
     ]
    },
    {
     "name": "stderr",
     "output_type": "stream",
     "text": [
      "  0%|          | 5/3000 [00:00<01:12, 41.38it/s]"
     ]
    },
    {
     "name": "stdout",
     "output_type": "stream",
     "text": [
      "Epoch 0 | Loss: 1873.1426\n",
      "    Mean square distance to | True X: 113.4041 | M: 111.9163 | N: 111.9408 | MN: 0.0003\n"
     ]
    },
    {
     "name": "stderr",
     "output_type": "stream",
     "text": [
      "  1%|▏         | 40/3000 [00:00<01:02, 47.05it/s]"
     ]
    },
    {
     "name": "stdout",
     "output_type": "stream",
     "text": [
      "Epoch 30 | Loss: 754.6761\n",
      "    Mean square distance to | True X: 113.3193 | M: 111.9637 | N: 111.9113 | MN: 0.0092\n"
     ]
    },
    {
     "name": "stderr",
     "output_type": "stream",
     "text": [
      "  2%|▏         | 70/3000 [00:01<01:02, 46.73it/s]"
     ]
    },
    {
     "name": "stdout",
     "output_type": "stream",
     "text": [
      "Epoch 60 | Loss: 933.8793\n",
      "    Mean square distance to | True X: 113.2150 | M: 111.9624 | N: 111.9243 | MN: 0.0151\n"
     ]
    },
    {
     "name": "stderr",
     "output_type": "stream",
     "text": [
      "  3%|▎         | 100/3000 [00:02<01:03, 46.02it/s]"
     ]
    },
    {
     "name": "stdout",
     "output_type": "stream",
     "text": [
      "Epoch 90 | Loss: 796.2173\n",
      "    Mean square distance to | True X: 113.2020 | M: 111.8989 | N: 111.9991 | MN: 0.0207\n"
     ]
    },
    {
     "name": "stderr",
     "output_type": "stream",
     "text": [
      "  4%|▍         | 130/3000 [00:02<01:01, 46.97it/s]"
     ]
    },
    {
     "name": "stdout",
     "output_type": "stream",
     "text": [
      "Epoch 120 | Loss: 762.2538\n",
      "    Mean square distance to | True X: 113.2050 | M: 111.8733 | N: 112.0376 | MN: 0.0272\n"
     ]
    },
    {
     "name": "stderr",
     "output_type": "stream",
     "text": [
      "  5%|▌         | 160/3000 [00:03<01:00, 47.01it/s]"
     ]
    },
    {
     "name": "stdout",
     "output_type": "stream",
     "text": [
      "Epoch 150 | Loss: 552.8165\n",
      "    Mean square distance to | True X: 113.1988 | M: 111.8839 | N: 112.0451 | MN: 0.0362\n"
     ]
    },
    {
     "name": "stderr",
     "output_type": "stream",
     "text": [
      "  6%|▋         | 190/3000 [00:04<00:59, 47.15it/s]"
     ]
    },
    {
     "name": "stdout",
     "output_type": "stream",
     "text": [
      "Epoch 180 | Loss: 1053.8781\n",
      "    Mean square distance to | True X: 113.3486 | M: 111.8344 | N: 112.1567 | MN: 0.0673\n"
     ]
    },
    {
     "name": "stderr",
     "output_type": "stream",
     "text": [
      "  7%|▋         | 220/3000 [00:04<00:58, 47.37it/s]"
     ]
    },
    {
     "name": "stdout",
     "output_type": "stream",
     "text": [
      "Epoch 210 | Loss: 728.7081\n",
      "    Mean square distance to | True X: 113.4069 | M: 111.8595 | N: 112.1486 | MN: 0.0758\n"
     ]
    },
    {
     "name": "stderr",
     "output_type": "stream",
     "text": [
      "  8%|▊         | 250/3000 [00:05<00:58, 47.39it/s]"
     ]
    },
    {
     "name": "stdout",
     "output_type": "stream",
     "text": [
      "Epoch 240 | Loss: 577.2536\n",
      "    Mean square distance to | True X: 113.4058 | M: 111.8486 | N: 112.1663 | MN: 0.0792\n"
     ]
    },
    {
     "name": "stderr",
     "output_type": "stream",
     "text": [
      "  9%|▉         | 280/3000 [00:05<00:57, 47.53it/s]"
     ]
    },
    {
     "name": "stdout",
     "output_type": "stream",
     "text": [
      "Epoch 270 | Loss: 574.9490\n",
      "    Mean square distance to | True X: 113.4182 | M: 111.8237 | N: 112.1956 | MN: 0.0814\n"
     ]
    },
    {
     "name": "stderr",
     "output_type": "stream",
     "text": [
      " 10%|█         | 310/3000 [00:06<00:56, 47.42it/s]"
     ]
    },
    {
     "name": "stdout",
     "output_type": "stream",
     "text": [
      "Epoch 300 | Loss: 746.4763\n",
      "    Mean square distance to | True X: 113.3709 | M: 111.7805 | N: 112.2424 | MN: 0.0832\n"
     ]
    },
    {
     "name": "stderr",
     "output_type": "stream",
     "text": [
      " 11%|█▏        | 340/3000 [00:07<00:55, 47.54it/s]"
     ]
    },
    {
     "name": "stdout",
     "output_type": "stream",
     "text": [
      "Epoch 330 | Loss: 519.7780\n",
      "    Mean square distance to | True X: 113.2963 | M: 111.8048 | N: 112.2276 | MN: 0.0880\n"
     ]
    },
    {
     "name": "stderr",
     "output_type": "stream",
     "text": [
      " 12%|█▏        | 370/3000 [00:07<00:55, 47.63it/s]"
     ]
    },
    {
     "name": "stdout",
     "output_type": "stream",
     "text": [
      "Epoch 360 | Loss: 811.3745\n",
      "    Mean square distance to | True X: 113.2901 | M: 111.8071 | N: 112.2275 | MN: 0.0891\n"
     ]
    },
    {
     "name": "stderr",
     "output_type": "stream",
     "text": [
      " 13%|█▎        | 400/3000 [00:08<00:54, 47.52it/s]"
     ]
    },
    {
     "name": "stdout",
     "output_type": "stream",
     "text": [
      "Epoch 390 | Loss: 874.9474\n",
      "    Mean square distance to | True X: 113.2605 | M: 111.8453 | N: 112.1930 | MN: 0.0909\n"
     ]
    },
    {
     "name": "stderr",
     "output_type": "stream",
     "text": [
      " 14%|█▍        | 430/3000 [00:09<00:54, 47.41it/s]"
     ]
    },
    {
     "name": "stdout",
     "output_type": "stream",
     "text": [
      "Epoch 420 | Loss: 571.4282\n",
      "    Mean square distance to | True X: 113.2883 | M: 111.8468 | N: 112.1930 | MN: 0.0917\n"
     ]
    },
    {
     "name": "stderr",
     "output_type": "stream",
     "text": [
      " 15%|█▌        | 460/3000 [00:09<00:53, 47.55it/s]"
     ]
    },
    {
     "name": "stdout",
     "output_type": "stream",
     "text": [
      "Epoch 450 | Loss: 606.6268\n",
      "    Mean square distance to | True X: 113.2875 | M: 111.8237 | N: 112.2296 | MN: 0.0984\n"
     ]
    },
    {
     "name": "stderr",
     "output_type": "stream",
     "text": [
      " 16%|█▋        | 490/3000 [00:10<00:52, 47.56it/s]"
     ]
    },
    {
     "name": "stdout",
     "output_type": "stream",
     "text": [
      "Epoch 480 | Loss: 575.3184\n",
      "    Mean square distance to | True X: 113.3584 | M: 111.8761 | N: 112.2039 | MN: 0.1117\n"
     ]
    },
    {
     "name": "stderr",
     "output_type": "stream",
     "text": [
      " 17%|█▋        | 520/3000 [00:11<00:52, 47.48it/s]"
     ]
    },
    {
     "name": "stdout",
     "output_type": "stream",
     "text": [
      "Epoch 510 | Loss: 1205.3475\n",
      "    Mean square distance to | True X: 113.3857 | M: 111.8894 | N: 112.2018 | MN: 0.1174\n"
     ]
    },
    {
     "name": "stderr",
     "output_type": "stream",
     "text": [
      " 18%|█▊        | 550/3000 [00:11<00:51, 47.16it/s]"
     ]
    },
    {
     "name": "stdout",
     "output_type": "stream",
     "text": [
      "Epoch 540 | Loss: 572.5472\n",
      "    Mean square distance to | True X: 113.3708 | M: 111.8888 | N: 112.2025 | MN: 0.1174\n"
     ]
    },
    {
     "name": "stderr",
     "output_type": "stream",
     "text": [
      " 19%|█▉        | 580/3000 [00:12<00:51, 47.31it/s]"
     ]
    },
    {
     "name": "stdout",
     "output_type": "stream",
     "text": [
      "Epoch 570 | Loss: 949.3552\n",
      "    Mean square distance to | True X: 113.4489 | M: 111.9479 | N: 112.1589 | MN: 0.1252\n"
     ]
    },
    {
     "name": "stderr",
     "output_type": "stream",
     "text": [
      " 20%|██        | 610/3000 [00:12<00:50, 47.20it/s]"
     ]
    },
    {
     "name": "stdout",
     "output_type": "stream",
     "text": [
      "Epoch 600 | Loss: 649.8264\n",
      "    Mean square distance to | True X: 113.5392 | M: 111.9793 | N: 112.1448 | MN: 0.1338\n"
     ]
    },
    {
     "name": "stderr",
     "output_type": "stream",
     "text": [
      " 21%|██▏       | 640/3000 [00:13<00:49, 47.23it/s]"
     ]
    },
    {
     "name": "stdout",
     "output_type": "stream",
     "text": [
      "Epoch 630 | Loss: 662.7874\n",
      "    Mean square distance to | True X: 113.6264 | M: 111.9802 | N: 112.1489 | MN: 0.1363\n"
     ]
    },
    {
     "name": "stderr",
     "output_type": "stream",
     "text": [
      " 22%|██▏       | 670/3000 [00:14<00:49, 46.97it/s]"
     ]
    },
    {
     "name": "stdout",
     "output_type": "stream",
     "text": [
      "Epoch 660 | Loss: 525.8717\n",
      "    Mean square distance to | True X: 113.6554 | M: 111.9668 | N: 112.1695 | MN: 0.1399\n"
     ]
    },
    {
     "name": "stderr",
     "output_type": "stream",
     "text": [
      " 23%|██▎       | 700/3000 [00:14<00:48, 47.05it/s]"
     ]
    },
    {
     "name": "stdout",
     "output_type": "stream",
     "text": [
      "Epoch 690 | Loss: 721.8412\n",
      "    Mean square distance to | True X: 113.6259 | M: 111.9548 | N: 112.1842 | MN: 0.1413\n"
     ]
    },
    {
     "name": "stderr",
     "output_type": "stream",
     "text": [
      " 24%|██▍       | 730/3000 [00:15<00:48, 46.94it/s]"
     ]
    },
    {
     "name": "stdout",
     "output_type": "stream",
     "text": [
      "Epoch 720 | Loss: 675.6574\n",
      "    Mean square distance to | True X: 113.6413 | M: 111.9682 | N: 112.1718 | MN: 0.1418\n"
     ]
    },
    {
     "name": "stderr",
     "output_type": "stream",
     "text": [
      " 25%|██▌       | 760/3000 [00:16<00:47, 47.20it/s]"
     ]
    },
    {
     "name": "stdout",
     "output_type": "stream",
     "text": [
      "Epoch 750 | Loss: 1408.2471\n",
      "    Mean square distance to | True X: 113.6345 | M: 111.9672 | N: 112.1752 | MN: 0.1429\n"
     ]
    },
    {
     "name": "stderr",
     "output_type": "stream",
     "text": [
      " 26%|██▋       | 790/3000 [00:16<00:46, 47.21it/s]"
     ]
    },
    {
     "name": "stdout",
     "output_type": "stream",
     "text": [
      "Epoch 780 | Loss: 1015.5585\n",
      "    Mean square distance to | True X: 113.6811 | M: 111.9587 | N: 112.1949 | MN: 0.1485\n"
     ]
    },
    {
     "name": "stderr",
     "output_type": "stream",
     "text": [
      " 27%|██▋       | 820/3000 [00:17<00:46, 46.93it/s]"
     ]
    },
    {
     "name": "stdout",
     "output_type": "stream",
     "text": [
      "Epoch 810 | Loss: 582.7083\n",
      "    Mean square distance to | True X: 113.6785 | M: 111.9538 | N: 112.2104 | MN: 0.1539\n"
     ]
    },
    {
     "name": "stderr",
     "output_type": "stream",
     "text": [
      " 28%|██▊       | 850/3000 [00:18<00:45, 47.01it/s]"
     ]
    },
    {
     "name": "stdout",
     "output_type": "stream",
     "text": [
      "Epoch 840 | Loss: 628.6710\n",
      "    Mean square distance to | True X: 113.7401 | M: 111.9620 | N: 112.2136 | MN: 0.1596\n"
     ]
    },
    {
     "name": "stderr",
     "output_type": "stream",
     "text": [
      " 29%|██▉       | 880/3000 [00:18<00:45, 47.04it/s]"
     ]
    },
    {
     "name": "stdout",
     "output_type": "stream",
     "text": [
      "Epoch 870 | Loss: 562.9625\n",
      "    Mean square distance to | True X: 113.8144 | M: 111.9831 | N: 112.1984 | MN: 0.1625\n"
     ]
    },
    {
     "name": "stderr",
     "output_type": "stream",
     "text": [
      " 30%|███       | 910/3000 [00:19<00:44, 46.84it/s]"
     ]
    },
    {
     "name": "stdout",
     "output_type": "stream",
     "text": [
      "Epoch 900 | Loss: 752.1840\n",
      "    Mean square distance to | True X: 113.8110 | M: 111.9891 | N: 112.1952 | MN: 0.1639\n"
     ]
    },
    {
     "name": "stderr",
     "output_type": "stream",
     "text": [
      " 31%|███▏      | 940/3000 [00:19<00:43, 46.89it/s]"
     ]
    },
    {
     "name": "stdout",
     "output_type": "stream",
     "text": [
      "Epoch 930 | Loss: 830.1520\n",
      "    Mean square distance to | True X: 113.8064 | M: 111.9888 | N: 112.1975 | MN: 0.1649\n"
     ]
    },
    {
     "name": "stderr",
     "output_type": "stream",
     "text": [
      " 32%|███▏      | 970/3000 [00:20<00:43, 46.88it/s]"
     ]
    },
    {
     "name": "stdout",
     "output_type": "stream",
     "text": [
      "Epoch 960 | Loss: 596.8292\n",
      "    Mean square distance to | True X: 113.8348 | M: 112.0148 | N: 112.1773 | MN: 0.1678\n"
     ]
    },
    {
     "name": "stderr",
     "output_type": "stream",
     "text": [
      " 33%|███▎      | 1000/3000 [00:21<00:42, 46.69it/s]"
     ]
    },
    {
     "name": "stdout",
     "output_type": "stream",
     "text": [
      "Epoch 990 | Loss: 947.1691\n",
      "    Mean square distance to | True X: 113.8463 | M: 112.0436 | N: 112.1950 | MN: 0.1911\n"
     ]
    },
    {
     "name": "stderr",
     "output_type": "stream",
     "text": [
      " 34%|███▍      | 1030/3000 [00:21<00:41, 47.00it/s]"
     ]
    },
    {
     "name": "stdout",
     "output_type": "stream",
     "text": [
      "Epoch 1020 | Loss: 525.5272\n",
      "    Mean square distance to | True X: 113.8396 | M: 112.0755 | N: 112.1877 | MN: 0.2034\n"
     ]
    },
    {
     "name": "stderr",
     "output_type": "stream",
     "text": [
      " 35%|███▌      | 1060/3000 [00:22<00:41, 46.94it/s]"
     ]
    },
    {
     "name": "stdout",
     "output_type": "stream",
     "text": [
      "Epoch 1050 | Loss: 719.4717\n",
      "    Mean square distance to | True X: 113.8537 | M: 112.1523 | N: 112.2057 | MN: 0.2507\n"
     ]
    },
    {
     "name": "stderr",
     "output_type": "stream",
     "text": [
      " 36%|███▋      | 1090/3000 [00:23<00:40, 46.94it/s]"
     ]
    },
    {
     "name": "stdout",
     "output_type": "stream",
     "text": [
      "Epoch 1080 | Loss: 647.3246\n",
      "    Mean square distance to | True X: 113.9274 | M: 112.2933 | N: 112.3230 | MN: 0.3799\n"
     ]
    },
    {
     "name": "stderr",
     "output_type": "stream",
     "text": [
      " 37%|███▋      | 1120/3000 [00:23<00:39, 47.01it/s]"
     ]
    },
    {
     "name": "stdout",
     "output_type": "stream",
     "text": [
      "Epoch 1110 | Loss: 594.1129\n",
      "    Mean square distance to | True X: 113.9325 | M: 112.3010 | N: 112.3302 | MN: 0.3874\n"
     ]
    },
    {
     "name": "stderr",
     "output_type": "stream",
     "text": [
      " 38%|███▊      | 1150/3000 [00:24<00:39, 47.17it/s]"
     ]
    },
    {
     "name": "stdout",
     "output_type": "stream",
     "text": [
      "Epoch 1140 | Loss: 1223.2125\n",
      "    Mean square distance to | True X: 113.9327 | M: 112.3014 | N: 112.3305 | MN: 0.3877\n"
     ]
    },
    {
     "name": "stderr",
     "output_type": "stream",
     "text": [
      " 39%|███▉      | 1180/3000 [00:25<00:38, 47.16it/s]"
     ]
    },
    {
     "name": "stdout",
     "output_type": "stream",
     "text": [
      "Epoch 1170 | Loss: 564.2725\n",
      "    Mean square distance to | True X: 113.9327 | M: 112.3015 | N: 112.3305 | MN: 0.3877\n"
     ]
    },
    {
     "name": "stderr",
     "output_type": "stream",
     "text": [
      " 40%|████      | 1210/3000 [00:25<00:38, 47.06it/s]"
     ]
    },
    {
     "name": "stdout",
     "output_type": "stream",
     "text": [
      "Epoch 1200 | Loss: 640.0340\n",
      "    Mean square distance to | True X: 113.9327 | M: 112.3015 | N: 112.3305 | MN: 0.3877\n"
     ]
    },
    {
     "name": "stderr",
     "output_type": "stream",
     "text": [
      " 41%|████▏     | 1240/3000 [00:26<00:37, 46.89it/s]"
     ]
    },
    {
     "name": "stdout",
     "output_type": "stream",
     "text": [
      "Epoch 1230 | Loss: 638.3965\n",
      "    Mean square distance to | True X: 113.9327 | M: 112.3015 | N: 112.3305 | MN: 0.3877\n"
     ]
    },
    {
     "name": "stderr",
     "output_type": "stream",
     "text": [
      " 42%|████▏     | 1270/3000 [00:26<00:36, 47.10it/s]"
     ]
    },
    {
     "name": "stdout",
     "output_type": "stream",
     "text": [
      "Epoch 1260 | Loss: 546.8341\n",
      "    Mean square distance to | True X: 113.9327 | M: 112.3015 | N: 112.3305 | MN: 0.3877\n"
     ]
    },
    {
     "name": "stderr",
     "output_type": "stream",
     "text": [
      " 43%|████▎     | 1300/3000 [00:27<00:36, 47.10it/s]"
     ]
    },
    {
     "name": "stdout",
     "output_type": "stream",
     "text": [
      "Epoch 1290 | Loss: 620.3813\n",
      "    Mean square distance to | True X: 113.9327 | M: 112.3013 | N: 112.3306 | MN: 0.3877\n"
     ]
    },
    {
     "name": "stderr",
     "output_type": "stream",
     "text": [
      " 44%|████▍     | 1330/3000 [00:28<00:35, 46.79it/s]"
     ]
    },
    {
     "name": "stdout",
     "output_type": "stream",
     "text": [
      "Epoch 1320 | Loss: 745.5701\n",
      "    Mean square distance to | True X: 113.9328 | M: 112.3013 | N: 112.3307 | MN: 0.3877\n"
     ]
    },
    {
     "name": "stderr",
     "output_type": "stream",
     "text": [
      " 45%|████▌     | 1360/3000 [00:28<00:35, 46.80it/s]"
     ]
    },
    {
     "name": "stdout",
     "output_type": "stream",
     "text": [
      "Epoch 1350 | Loss: 577.5754\n",
      "    Mean square distance to | True X: 113.9328 | M: 112.3012 | N: 112.3308 | MN: 0.3877\n"
     ]
    },
    {
     "name": "stderr",
     "output_type": "stream",
     "text": [
      " 46%|████▋     | 1390/3000 [00:29<00:34, 46.83it/s]"
     ]
    },
    {
     "name": "stdout",
     "output_type": "stream",
     "text": [
      "Epoch 1380 | Loss: 2510.1235\n",
      "    Mean square distance to | True X: 113.9322 | M: 112.3007 | N: 112.3312 | MN: 0.3877\n"
     ]
    },
    {
     "name": "stderr",
     "output_type": "stream",
     "text": [
      " 47%|████▋     | 1420/3000 [00:30<00:33, 46.74it/s]"
     ]
    },
    {
     "name": "stdout",
     "output_type": "stream",
     "text": [
      "Epoch 1410 | Loss: 3643.4927\n",
      "    Mean square distance to | True X: 113.9313 | M: 112.2996 | N: 112.3322 | MN: 0.3877\n"
     ]
    },
    {
     "name": "stderr",
     "output_type": "stream",
     "text": [
      " 48%|████▊     | 1450/3000 [00:30<00:33, 46.62it/s]"
     ]
    },
    {
     "name": "stdout",
     "output_type": "stream",
     "text": [
      "Epoch 1440 | Loss: 736.5439\n",
      "    Mean square distance to | True X: 113.9313 | M: 112.2994 | N: 112.3324 | MN: 0.3876\n"
     ]
    },
    {
     "name": "stderr",
     "output_type": "stream",
     "text": [
      " 49%|████▉     | 1480/3000 [00:31<00:32, 46.75it/s]"
     ]
    },
    {
     "name": "stdout",
     "output_type": "stream",
     "text": [
      "Epoch 1470 | Loss: 1014.3914\n",
      "    Mean square distance to | True X: 113.9312 | M: 112.2993 | N: 112.3325 | MN: 0.3876\n"
     ]
    },
    {
     "name": "stderr",
     "output_type": "stream",
     "text": [
      " 50%|█████     | 1510/3000 [00:32<00:31, 46.66it/s]"
     ]
    },
    {
     "name": "stdout",
     "output_type": "stream",
     "text": [
      "Epoch 1500 | Loss: 589.1262\n",
      "    Mean square distance to | True X: 113.9292 | M: 112.3117 | N: 112.3206 | MN: 0.3879\n"
     ]
    },
    {
     "name": "stderr",
     "output_type": "stream",
     "text": [
      " 51%|█████▏    | 1540/3000 [00:32<00:31, 46.52it/s]"
     ]
    },
    {
     "name": "stdout",
     "output_type": "stream",
     "text": [
      "Epoch 1530 | Loss: 691.6525\n",
      "    Mean square distance to | True X: 113.9281 | M: 112.3182 | N: 112.3148 | MN: 0.3883\n"
     ]
    },
    {
     "name": "stderr",
     "output_type": "stream",
     "text": [
      " 52%|█████▏    | 1570/3000 [00:33<00:30, 46.75it/s]"
     ]
    },
    {
     "name": "stdout",
     "output_type": "stream",
     "text": [
      "Epoch 1560 | Loss: 731.5264\n",
      "    Mean square distance to | True X: 113.9281 | M: 112.3185 | N: 112.3146 | MN: 0.3883\n"
     ]
    },
    {
     "name": "stderr",
     "output_type": "stream",
     "text": [
      " 53%|█████▎    | 1600/3000 [00:34<00:29, 46.70it/s]"
     ]
    },
    {
     "name": "stdout",
     "output_type": "stream",
     "text": [
      "Epoch 1590 | Loss: 566.5706\n",
      "    Mean square distance to | True X: 113.9281 | M: 112.3183 | N: 112.3148 | MN: 0.3883\n"
     ]
    },
    {
     "name": "stderr",
     "output_type": "stream",
     "text": [
      " 54%|█████▍    | 1630/3000 [00:34<00:29, 46.77it/s]"
     ]
    },
    {
     "name": "stdout",
     "output_type": "stream",
     "text": [
      "Epoch 1620 | Loss: 591.9164\n",
      "    Mean square distance to | True X: 113.9281 | M: 112.3182 | N: 112.3148 | MN: 0.3883\n"
     ]
    },
    {
     "name": "stderr",
     "output_type": "stream",
     "text": [
      " 55%|█████▌    | 1660/3000 [00:35<00:28, 46.57it/s]"
     ]
    },
    {
     "name": "stdout",
     "output_type": "stream",
     "text": [
      "Epoch 1650 | Loss: 655.5213\n",
      "    Mean square distance to | True X: 113.9282 | M: 112.3180 | N: 112.3150 | MN: 0.3883\n"
     ]
    },
    {
     "name": "stderr",
     "output_type": "stream",
     "text": [
      " 56%|█████▋    | 1690/3000 [00:35<00:28, 46.38it/s]"
     ]
    },
    {
     "name": "stdout",
     "output_type": "stream",
     "text": [
      "Epoch 1680 | Loss: 707.6207\n",
      "    Mean square distance to | True X: 113.9282 | M: 112.3180 | N: 112.3150 | MN: 0.3883\n"
     ]
    },
    {
     "name": "stderr",
     "output_type": "stream",
     "text": [
      " 57%|█████▋    | 1720/3000 [00:36<00:27, 46.69it/s]"
     ]
    },
    {
     "name": "stdout",
     "output_type": "stream",
     "text": [
      "Epoch 1710 | Loss: 547.3252\n",
      "    Mean square distance to | True X: 113.9276 | M: 112.3178 | N: 112.3151 | MN: 0.3882\n"
     ]
    },
    {
     "name": "stderr",
     "output_type": "stream",
     "text": [
      " 58%|█████▊    | 1750/3000 [00:37<00:26, 46.60it/s]"
     ]
    },
    {
     "name": "stdout",
     "output_type": "stream",
     "text": [
      "Epoch 1740 | Loss: 636.8078\n",
      "    Mean square distance to | True X: 113.9274 | M: 112.3178 | N: 112.3151 | MN: 0.3882\n"
     ]
    },
    {
     "name": "stderr",
     "output_type": "stream",
     "text": [
      " 59%|█████▉    | 1780/3000 [00:37<00:26, 46.51it/s]"
     ]
    },
    {
     "name": "stdout",
     "output_type": "stream",
     "text": [
      "Epoch 1770 | Loss: 869.5113\n",
      "    Mean square distance to | True X: 113.9275 | M: 112.3178 | N: 112.3151 | MN: 0.3882\n"
     ]
    },
    {
     "name": "stderr",
     "output_type": "stream",
     "text": [
      " 60%|██████    | 1810/3000 [00:38<00:25, 46.54it/s]"
     ]
    },
    {
     "name": "stdout",
     "output_type": "stream",
     "text": [
      "Epoch 1800 | Loss: 982.3559\n",
      "    Mean square distance to | True X: 113.9275 | M: 112.3178 | N: 112.3151 | MN: 0.3882\n"
     ]
    },
    {
     "name": "stderr",
     "output_type": "stream",
     "text": [
      " 61%|██████▏   | 1840/3000 [00:39<00:24, 46.50it/s]"
     ]
    },
    {
     "name": "stdout",
     "output_type": "stream",
     "text": [
      "Epoch 1830 | Loss: 802.3157\n",
      "    Mean square distance to | True X: 113.9275 | M: 112.3178 | N: 112.3150 | MN: 0.3882\n"
     ]
    },
    {
     "name": "stderr",
     "output_type": "stream",
     "text": [
      " 62%|██████▏   | 1870/3000 [00:39<00:24, 46.42it/s]"
     ]
    },
    {
     "name": "stdout",
     "output_type": "stream",
     "text": [
      "Epoch 1860 | Loss: 760.0106\n",
      "    Mean square distance to | True X: 113.9277 | M: 112.3169 | N: 112.3160 | MN: 0.3882\n"
     ]
    },
    {
     "name": "stderr",
     "output_type": "stream",
     "text": [
      " 63%|██████▎   | 1900/3000 [00:40<00:23, 46.56it/s]"
     ]
    },
    {
     "name": "stdout",
     "output_type": "stream",
     "text": [
      "Epoch 1890 | Loss: 744.6998\n",
      "    Mean square distance to | True X: 113.9278 | M: 112.3164 | N: 112.3165 | MN: 0.3882\n"
     ]
    },
    {
     "name": "stderr",
     "output_type": "stream",
     "text": [
      " 64%|██████▍   | 1930/3000 [00:41<00:23, 46.51it/s]"
     ]
    },
    {
     "name": "stdout",
     "output_type": "stream",
     "text": [
      "Epoch 1920 | Loss: 793.4935\n",
      "    Mean square distance to | True X: 113.9278 | M: 112.3164 | N: 112.3166 | MN: 0.3882\n"
     ]
    },
    {
     "name": "stderr",
     "output_type": "stream",
     "text": [
      " 65%|██████▌   | 1960/3000 [00:41<00:22, 46.76it/s]"
     ]
    },
    {
     "name": "stdout",
     "output_type": "stream",
     "text": [
      "Epoch 1950 | Loss: 535.0089\n",
      "    Mean square distance to | True X: 113.9278 | M: 112.3164 | N: 112.3166 | MN: 0.3882\n"
     ]
    },
    {
     "name": "stderr",
     "output_type": "stream",
     "text": [
      " 66%|██████▋   | 1990/3000 [00:42<00:21, 46.47it/s]"
     ]
    },
    {
     "name": "stdout",
     "output_type": "stream",
     "text": [
      "Epoch 1980 | Loss: 678.9668\n",
      "    Mean square distance to | True X: 113.9278 | M: 112.3163 | N: 112.3166 | MN: 0.3882\n"
     ]
    },
    {
     "name": "stderr",
     "output_type": "stream",
     "text": [
      " 67%|██████▋   | 2020/3000 [00:43<00:20, 46.78it/s]"
     ]
    },
    {
     "name": "stdout",
     "output_type": "stream",
     "text": [
      "Epoch 2010 | Loss: 3444.6873\n",
      "    Mean square distance to | True X: 113.9277 | M: 112.3159 | N: 112.3169 | MN: 0.3882\n"
     ]
    },
    {
     "name": "stderr",
     "output_type": "stream",
     "text": [
      " 68%|██████▊   | 2050/3000 [00:43<00:20, 46.68it/s]"
     ]
    },
    {
     "name": "stdout",
     "output_type": "stream",
     "text": [
      "Epoch 2040 | Loss: 781.6255\n",
      "    Mean square distance to | True X: 113.9277 | M: 112.3159 | N: 112.3169 | MN: 0.3882\n"
     ]
    },
    {
     "name": "stderr",
     "output_type": "stream",
     "text": [
      " 69%|██████▉   | 2080/3000 [00:44<00:19, 46.54it/s]"
     ]
    },
    {
     "name": "stdout",
     "output_type": "stream",
     "text": [
      "Epoch 2070 | Loss: 1524.2362\n",
      "    Mean square distance to | True X: 113.9276 | M: 112.3159 | N: 112.3169 | MN: 0.3882\n"
     ]
    },
    {
     "name": "stderr",
     "output_type": "stream",
     "text": [
      " 70%|███████   | 2110/3000 [00:45<00:19, 46.66it/s]"
     ]
    },
    {
     "name": "stdout",
     "output_type": "stream",
     "text": [
      "Epoch 2100 | Loss: 952.8210\n",
      "    Mean square distance to | True X: 113.9276 | M: 112.3159 | N: 112.3170 | MN: 0.3882\n"
     ]
    },
    {
     "name": "stderr",
     "output_type": "stream",
     "text": [
      " 71%|███████▏  | 2140/3000 [00:45<00:18, 46.36it/s]"
     ]
    },
    {
     "name": "stdout",
     "output_type": "stream",
     "text": [
      "Epoch 2130 | Loss: 630.0965\n",
      "    Mean square distance to | True X: 113.9276 | M: 112.3158 | N: 112.3170 | MN: 0.3882\n"
     ]
    },
    {
     "name": "stderr",
     "output_type": "stream",
     "text": [
      " 72%|███████▏  | 2170/3000 [00:46<00:17, 46.42it/s]"
     ]
    },
    {
     "name": "stdout",
     "output_type": "stream",
     "text": [
      "Epoch 2160 | Loss: 657.8086\n",
      "    Mean square distance to | True X: 113.9276 | M: 112.3164 | N: 112.3165 | MN: 0.3882\n"
     ]
    },
    {
     "name": "stderr",
     "output_type": "stream",
     "text": [
      " 73%|███████▎  | 2200/3000 [00:46<00:17, 46.48it/s]"
     ]
    },
    {
     "name": "stdout",
     "output_type": "stream",
     "text": [
      "Epoch 2190 | Loss: 621.5441\n",
      "    Mean square distance to | True X: 113.9277 | M: 112.3164 | N: 112.3165 | MN: 0.3882\n"
     ]
    },
    {
     "name": "stderr",
     "output_type": "stream",
     "text": [
      " 74%|███████▍  | 2230/3000 [00:47<00:16, 46.39it/s]"
     ]
    },
    {
     "name": "stdout",
     "output_type": "stream",
     "text": [
      "Epoch 2220 | Loss: 834.9028\n",
      "    Mean square distance to | True X: 113.9279 | M: 112.3153 | N: 112.3175 | MN: 0.3881\n"
     ]
    },
    {
     "name": "stderr",
     "output_type": "stream",
     "text": [
      " 75%|███████▌  | 2260/3000 [00:48<00:15, 46.49it/s]"
     ]
    },
    {
     "name": "stdout",
     "output_type": "stream",
     "text": [
      "Epoch 2250 | Loss: 935.7046\n",
      "    Mean square distance to | True X: 113.9279 | M: 112.3150 | N: 112.3177 | MN: 0.3881\n"
     ]
    },
    {
     "name": "stderr",
     "output_type": "stream",
     "text": [
      " 76%|███████▋  | 2290/3000 [00:48<00:15, 46.42it/s]"
     ]
    },
    {
     "name": "stdout",
     "output_type": "stream",
     "text": [
      "Epoch 2280 | Loss: 1080.0056\n",
      "    Mean square distance to | True X: 113.9276 | M: 112.3142 | N: 112.3184 | MN: 0.3881\n"
     ]
    },
    {
     "name": "stderr",
     "output_type": "stream",
     "text": [
      " 77%|███████▋  | 2320/3000 [00:49<00:14, 46.20it/s]"
     ]
    },
    {
     "name": "stdout",
     "output_type": "stream",
     "text": [
      "Epoch 2310 | Loss: 715.1500\n",
      "    Mean square distance to | True X: 113.9275 | M: 112.3135 | N: 112.3191 | MN: 0.3880\n"
     ]
    },
    {
     "name": "stderr",
     "output_type": "stream",
     "text": [
      " 78%|███████▊  | 2350/3000 [00:50<00:14, 46.26it/s]"
     ]
    },
    {
     "name": "stdout",
     "output_type": "stream",
     "text": [
      "Epoch 2340 | Loss: 2630.8228\n",
      "    Mean square distance to | True X: 113.9276 | M: 112.3134 | N: 112.3192 | MN: 0.3880\n"
     ]
    },
    {
     "name": "stderr",
     "output_type": "stream",
     "text": [
      " 79%|███████▉  | 2380/3000 [00:50<00:13, 46.23it/s]"
     ]
    },
    {
     "name": "stdout",
     "output_type": "stream",
     "text": [
      "Epoch 2370 | Loss: 729.5562\n",
      "    Mean square distance to | True X: 113.9271 | M: 112.3134 | N: 112.3192 | MN: 0.3880\n"
     ]
    },
    {
     "name": "stderr",
     "output_type": "stream",
     "text": [
      " 80%|████████  | 2410/3000 [00:51<00:12, 46.33it/s]"
     ]
    },
    {
     "name": "stdout",
     "output_type": "stream",
     "text": [
      "Epoch 2400 | Loss: 735.6426\n",
      "    Mean square distance to | True X: 113.9270 | M: 112.3135 | N: 112.3190 | MN: 0.3880\n"
     ]
    },
    {
     "name": "stderr",
     "output_type": "stream",
     "text": [
      " 81%|████████▏ | 2440/3000 [00:52<00:12, 46.12it/s]"
     ]
    },
    {
     "name": "stdout",
     "output_type": "stream",
     "text": [
      "Epoch 2430 | Loss: 578.9687\n",
      "    Mean square distance to | True X: 113.9269 | M: 112.3132 | N: 112.3192 | MN: 0.3880\n"
     ]
    },
    {
     "name": "stderr",
     "output_type": "stream",
     "text": [
      " 82%|████████▏ | 2470/3000 [00:52<00:11, 46.28it/s]"
     ]
    },
    {
     "name": "stdout",
     "output_type": "stream",
     "text": [
      "Epoch 2460 | Loss: 623.9747\n",
      "    Mean square distance to | True X: 113.9269 | M: 112.3132 | N: 112.3192 | MN: 0.3880\n"
     ]
    },
    {
     "name": "stderr",
     "output_type": "stream",
     "text": [
      " 83%|████████▎ | 2500/3000 [00:53<00:10, 46.32it/s]"
     ]
    },
    {
     "name": "stdout",
     "output_type": "stream",
     "text": [
      "Epoch 2490 | Loss: 657.5338\n",
      "    Mean square distance to | True X: 113.9269 | M: 112.3132 | N: 112.3192 | MN: 0.3880\n"
     ]
    },
    {
     "name": "stderr",
     "output_type": "stream",
     "text": [
      " 84%|████████▍ | 2530/3000 [00:54<00:10, 46.32it/s]"
     ]
    },
    {
     "name": "stdout",
     "output_type": "stream",
     "text": [
      "Epoch 2520 | Loss: 717.9820\n",
      "    Mean square distance to | True X: 113.9268 | M: 112.3132 | N: 112.3192 | MN: 0.3880\n"
     ]
    },
    {
     "name": "stderr",
     "output_type": "stream",
     "text": [
      " 85%|████████▌ | 2560/3000 [00:54<00:09, 46.19it/s]"
     ]
    },
    {
     "name": "stdout",
     "output_type": "stream",
     "text": [
      "Epoch 2550 | Loss: 639.9291\n",
      "    Mean square distance to | True X: 113.9268 | M: 112.3132 | N: 112.3192 | MN: 0.3880\n"
     ]
    },
    {
     "name": "stderr",
     "output_type": "stream",
     "text": [
      " 86%|████████▋ | 2590/3000 [00:55<00:08, 46.23it/s]"
     ]
    },
    {
     "name": "stdout",
     "output_type": "stream",
     "text": [
      "Epoch 2580 | Loss: 643.8032\n",
      "    Mean square distance to | True X: 113.9269 | M: 112.3135 | N: 112.3190 | MN: 0.3880\n"
     ]
    },
    {
     "name": "stderr",
     "output_type": "stream",
     "text": [
      " 87%|████████▋ | 2620/3000 [00:56<00:08, 46.25it/s]"
     ]
    },
    {
     "name": "stdout",
     "output_type": "stream",
     "text": [
      "Epoch 2610 | Loss: 729.9811\n",
      "    Mean square distance to | True X: 113.9268 | M: 112.3135 | N: 112.3189 | MN: 0.3880\n"
     ]
    },
    {
     "name": "stderr",
     "output_type": "stream",
     "text": [
      " 88%|████████▊ | 2650/3000 [00:56<00:07, 46.17it/s]"
     ]
    },
    {
     "name": "stdout",
     "output_type": "stream",
     "text": [
      "Epoch 2640 | Loss: 547.1896\n",
      "    Mean square distance to | True X: 113.9000 | M: 112.3133 | N: 112.3172 | MN: 0.3870\n"
     ]
    },
    {
     "name": "stderr",
     "output_type": "stream",
     "text": [
      " 89%|████████▉ | 2680/3000 [00:57<00:06, 46.01it/s]"
     ]
    },
    {
     "name": "stdout",
     "output_type": "stream",
     "text": [
      "Epoch 2670 | Loss: 591.6489\n",
      "    Mean square distance to | True X: 113.8979 | M: 112.3131 | N: 112.3175 | MN: 0.3871\n"
     ]
    },
    {
     "name": "stderr",
     "output_type": "stream",
     "text": [
      " 90%|█████████ | 2710/3000 [00:57<00:06, 46.39it/s]"
     ]
    },
    {
     "name": "stdout",
     "output_type": "stream",
     "text": [
      "Epoch 2700 | Loss: 734.8909\n",
      "    Mean square distance to | True X: 113.8978 | M: 112.3129 | N: 112.3177 | MN: 0.3871\n"
     ]
    },
    {
     "name": "stderr",
     "output_type": "stream",
     "text": [
      " 91%|█████████▏| 2740/3000 [00:58<00:05, 46.19it/s]"
     ]
    },
    {
     "name": "stdout",
     "output_type": "stream",
     "text": [
      "Epoch 2730 | Loss: 665.6902\n",
      "    Mean square distance to | True X: 113.8979 | M: 112.3129 | N: 112.3177 | MN: 0.3871\n"
     ]
    },
    {
     "name": "stderr",
     "output_type": "stream",
     "text": [
      " 92%|█████████▏| 2770/3000 [00:59<00:04, 46.29it/s]"
     ]
    },
    {
     "name": "stdout",
     "output_type": "stream",
     "text": [
      "Epoch 2760 | Loss: 606.6725\n",
      "    Mean square distance to | True X: 113.8978 | M: 112.3130 | N: 112.3176 | MN: 0.3871\n"
     ]
    },
    {
     "name": "stderr",
     "output_type": "stream",
     "text": [
      " 93%|█████████▎| 2800/3000 [00:59<00:04, 46.06it/s]"
     ]
    },
    {
     "name": "stdout",
     "output_type": "stream",
     "text": [
      "Epoch 2790 | Loss: 739.3763\n",
      "    Mean square distance to | True X: 113.8985 | M: 112.3135 | N: 112.3171 | MN: 0.3871\n"
     ]
    },
    {
     "name": "stderr",
     "output_type": "stream",
     "text": [
      " 94%|█████████▍| 2830/3000 [01:00<00:03, 46.11it/s]"
     ]
    },
    {
     "name": "stdout",
     "output_type": "stream",
     "text": [
      "Epoch 2820 | Loss: 581.2885\n",
      "    Mean square distance to | True X: 113.8987 | M: 112.3134 | N: 112.3172 | MN: 0.3871\n"
     ]
    },
    {
     "name": "stderr",
     "output_type": "stream",
     "text": [
      " 95%|█████████▌| 2860/3000 [01:01<00:03, 46.06it/s]"
     ]
    },
    {
     "name": "stdout",
     "output_type": "stream",
     "text": [
      "Epoch 2850 | Loss: 1807.4053\n",
      "    Mean square distance to | True X: 113.8987 | M: 112.3134 | N: 112.3172 | MN: 0.3871\n"
     ]
    },
    {
     "name": "stderr",
     "output_type": "stream",
     "text": [
      " 96%|█████████▋| 2890/3000 [01:01<00:02, 46.02it/s]"
     ]
    },
    {
     "name": "stdout",
     "output_type": "stream",
     "text": [
      "Epoch 2880 | Loss: 781.1648\n",
      "    Mean square distance to | True X: 113.8973 | M: 112.3138 | N: 112.3165 | MN: 0.3869\n"
     ]
    },
    {
     "name": "stderr",
     "output_type": "stream",
     "text": [
      " 97%|█████████▋| 2920/3000 [01:02<00:01, 45.99it/s]"
     ]
    },
    {
     "name": "stdout",
     "output_type": "stream",
     "text": [
      "Epoch 2910 | Loss: 901.0179\n",
      "    Mean square distance to | True X: 113.8966 | M: 112.3141 | N: 112.3162 | MN: 0.3869\n"
     ]
    },
    {
     "name": "stderr",
     "output_type": "stream",
     "text": [
      " 98%|█████████▊| 2950/3000 [01:03<00:01, 46.02it/s]"
     ]
    },
    {
     "name": "stdout",
     "output_type": "stream",
     "text": [
      "Epoch 2940 | Loss: 2950.2449\n",
      "    Mean square distance to | True X: 113.8966 | M: 112.3142 | N: 112.3161 | MN: 0.3869\n"
     ]
    },
    {
     "name": "stderr",
     "output_type": "stream",
     "text": [
      " 99%|█████████▉| 2980/3000 [01:03<00:00, 46.22it/s]"
     ]
    },
    {
     "name": "stdout",
     "output_type": "stream",
     "text": [
      "Epoch 2970 | Loss: 763.2753\n",
      "    Mean square distance to | True X: 113.8965 | M: 112.3142 | N: 112.3161 | MN: 0.3869\n"
     ]
    },
    {
     "name": "stderr",
     "output_type": "stream",
     "text": [
      "100%|██████████| 3000/3000 [01:04<00:00, 46.67it/s]\n",
      "100%|██████████| 100/100 [00:00<00:00, 269.98it/s]"
     ]
    },
    {
     "name": "stdout",
     "output_type": "stream",
     "text": [
      "Minimization took 0.37 seconds.\n"
     ]
    },
    {
     "name": "stderr",
     "output_type": "stream",
     "text": [
      "\n"
     ]
    }
   ],
   "source": [
    "import torch\n",
    "\n",
    "import os\n",
    "import sys\n",
    "sys.path.append(os.path.abspath(os.path.join('../..')))\n",
    "\n",
    "from mekiv.designs.demand import Demand\n",
    "from mekiv.models.mekiv import MEKIV\n",
    "from mekiv.models.kiv import KIV\n",
    "from mekiv.structures.stage_data import KIVStageData\n",
    "\n",
    "LMBDA_SEARCH_SPACE = torch.exp(torch.linspace(-8,3,100))\n",
    "XI_SEARCH_SPACE = torch.exp(torch.linspace(-8,3,100))\n",
    "\n",
    "design = Demand(rho=0.5)\n",
    "merror = 3.\n",
    "    \n",
    "X, M, N, Y, Z = design.generate_MEKIV_data(no_points=1000, merror_type = 'gaussian', merror_scale=merror)\n",
    "test_data = design.generate_test_data(1500)\n",
    "\n",
    "mekiv = MEKIV(M, N, Y, Z, lmbda_search_space=LMBDA_SEARCH_SPACE, xi_search_space=XI_SEARCH_SPACE, real_X=X, no_epochs=3000, change_alpha_samples_interval=1)\n",
    "mekiv_preds = mekiv.predict(test_data.X)\n",
    "mekiv_mse = test_data.evaluate_preds(mekiv_preds)"
   ]
  },
  {
   "cell_type": "code",
   "execution_count": 11,
   "metadata": {},
   "outputs": [
    {
     "data": {
      "text/plain": [
       "Text(0.5, 0, 'Iteration')"
      ]
     },
     "execution_count": 11,
     "metadata": {},
     "output_type": "execute_result"
    },
    {
     "data": {
      "image/png": "[encoded data removed]",
      "text/plain": [
       "<Figure size 1200x500 with 2 Axes>"
      ]
     },
     "metadata": {},
     "output_type": "display_data"
    }
   ],
   "source": [
    "losses, distances = mekiv.losses_distances()\n",
    "\n",
    "import matplotlib.pyplot as plt\n",
    "import seaborn as sns\n",
    "\n",
    "CAP = 3000\n",
    "\n",
    "# Make subplots with 2 columns and 1 row\n",
    "fig, axs = plt.subplots(1, 2, figsize=(12, 5))\n",
    "sns.lineplot(y=losses[:CAP], x=range(len(losses[:CAP])), ax=axs[0])\n",
    "axs[0].set_ylabel('Loss')\n",
    "axs[0].set_xlabel('Iteration')\n",
    "# Set the y limit\n",
    "axs[0].set_ylim(0, 3000)\n",
    "sns.lineplot(y=distances[:CAP], x=range(len(distances[:CAP])), ax=axs[1])\n",
    "axs[1].set_ylabel('Distance')\n",
    "axs[1].set_xlabel('Iteration')"
   ]
  }
 ],
 "metadata": {
  "kernelspec": {
   "display_name": "Python 3",
   "language": "python",
   "name": "python3"
  },
  "language_info": {
   "codemirror_mode": {
    "name": "ipython",
    "version": 3
   },
   "file_extension": ".py",
   "mimetype": "text/x-python",
   "name": "python",
   "nbconvert_exporter": "python",
   "pygments_lexer": "ipython3",
   "version": "3.10.12"
  }
 },
 "nbformat": 4,
 "nbformat_minor": 2
}
